{
 "cells": [
  {
   "cell_type": "markdown",
   "id": "cdaab290130cdea8",
   "metadata": {
    "collapsed": false,
    "jupyter": {
     "outputs_hidden": false
    }
   },
   "source": [
    "## Vorbereitung\n",
    "\n",
    "- Load relevant settings/credentials from `.env`"
   ]
  },
  {
   "cell_type": "markdown",
   "id": "b2a7b9b3-0fbb-42f5-b92e-d0b685dd9bcd",
   "metadata": {},
   "source": [
    "Load environment variables"
   ]
  },
  {
   "cell_type": "code",
   "execution_count": 1,
   "id": "b5980e2be0c631be",
   "metadata": {
    "ExecuteTime": {
     "end_time": "2024-03-06T11:36:21.318748900Z",
     "start_time": "2024-03-06T11:36:21.277214800Z"
    },
    "collapsed": false,
    "jupyter": {
     "outputs_hidden": false
    }
   },
   "outputs": [
    {
     "data": {
      "text/plain": [
       "True"
      ]
     },
     "execution_count": 1,
     "metadata": {},
     "output_type": "execute_result"
    }
   ],
   "source": [
    "import dotenv\n",
    "dotenv.load_dotenv()"
   ]
  },
  {
   "cell_type": "code",
   "execution_count": 2,
   "id": "332359a9-9bfa-484f-bff1-4c16936af151",
   "metadata": {
    "ExecuteTime": {
     "end_time": "2024-03-06T11:36:21.343794500Z",
     "start_time": "2024-03-06T11:36:21.318748900Z"
    }
   },
   "outputs": [],
   "source": [
    "import os"
   ]
  },
  {
   "cell_type": "code",
   "execution_count": 3,
   "id": "72d9ab3b-1e72-4d47-8014-f6a664ec96a5",
   "metadata": {
    "ExecuteTime": {
     "end_time": "2024-03-06T11:36:21.352291700Z",
     "start_time": "2024-03-06T11:36:21.335496700Z"
    }
   },
   "outputs": [
    {
     "data": {
      "text/plain": [
       "'https://aoai-thu-ulm.openai.azure.com/'"
      ]
     },
     "execution_count": 3,
     "metadata": {},
     "output_type": "execute_result"
    }
   ],
   "source": [
    "os.getenv(\"AZURE_OPENAI_ENDPOINT\")"
   ]
  },
  {
   "cell_type": "markdown",
   "id": "afe6f1c1-cf3d-48c0-a796-b91940c6a712",
   "metadata": {},
   "source": [
    "Make config available as `constants` for easier access"
   ]
  },
  {
   "cell_type": "code",
   "execution_count": 4,
   "id": "62a13c36-7be0-40bc-a32d-c10b59e9b1c7",
   "metadata": {
    "ExecuteTime": {
     "end_time": "2024-03-06T11:36:21.379568200Z",
     "start_time": "2024-03-06T11:36:21.351192Z"
    }
   },
   "outputs": [],
   "source": [
    "class constants:\n",
    "    AZURE_OPENAI_KEY = os.getenv(\"AZURE_OPENAI_KEY\")\n",
    "    AZURE_OPENAI_ENDPOINT = os.getenv(\"AZURE_OPENAI_ENDPOINT\")\n",
    "    AZURE_OPENAI_API_VERSION = \"2023-05-15\"\n",
    "    AZURE_OPENAI_API_TYPE = os.getenv(\"AZURE_OPENAI_API_TYPE\")\n",
    "\n",
    "    GPT4_DEPLOYMENT_NAME = \"gpt-4\"\n",
    "    GPT4_TURBO_DEPLOYMENT_NAME = \"gpt-4-turbo\"\n",
    "    GPT35_TURBO_DEPLOYMENT_NAME = \"gpt-35-turbo\"\n",
    "\n",
    "    EMBEDDINGS_DEPLOYMENT_NAME = \"ada2\""
   ]
  },
  {
   "cell_type": "code",
   "execution_count": 5,
   "id": "397ab3c5-1a88-466a-bbf0-83b2255ee027",
   "metadata": {
    "ExecuteTime": {
     "end_time": "2024-03-06T11:36:22.364638400Z",
     "start_time": "2024-03-06T11:36:22.344136300Z"
    }
   },
   "outputs": [
    {
     "data": {
      "text/plain": [
       "'https://aoai-thu-ulm.openai.azure.com/'"
      ]
     },
     "execution_count": 5,
     "metadata": {},
     "output_type": "execute_result"
    }
   ],
   "source": [
    "# Sanity check\n",
    "constants.AZURE_OPENAI_ENDPOINT"
   ]
  },
  {
   "cell_type": "markdown",
   "id": "8a86ebe7-a59a-40ec-b342-4ab4b70e7f5f",
   "metadata": {},
   "source": [
    "Set configuration for tiktoken (required for In-Memory VektorDB later)"
   ]
  },
  {
   "cell_type": "code",
   "execution_count": 6,
   "id": "1fd6456d-49ae-4f70-b158-46401a8140db",
   "metadata": {
    "ExecuteTime": {
     "end_time": "2024-03-06T11:36:23.340449100Z",
     "start_time": "2024-03-06T11:36:23.332938800Z"
    }
   },
   "outputs": [],
   "source": [
    "import os\n",
    "from pathlib import Path\n",
    "pwd = Path(os.getcwd())\n",
    "tiktoken_cache_dir = pwd / \"tiktoken_cache\"\n",
    "assert tiktoken_cache_dir.exists()\n",
    "\n",
    "os.environ[\"TIKTOKEN_CACHE_DIR\"] = str(tiktoken_cache_dir)"
   ]
  },
  {
   "cell_type": "code",
   "execution_count": 7,
   "id": "485e0540-2d51-4745-a0f8-cdc0253903ec",
   "metadata": {
    "ExecuteTime": {
     "end_time": "2024-03-06T11:36:23.717381200Z",
     "start_time": "2024-03-06T11:36:23.693666100Z"
    }
   },
   "outputs": [],
   "source": [
    "# Sanity Check\n",
    "assert os.path.exists(os.path.join(tiktoken_cache_dir,\"9b5ad71b2ce5302211f9c61530b329a4922fc6a4\"))"
   ]
  },
  {
   "cell_type": "markdown",
   "id": "e8007a61-1f79-43fe-9e8d-e3d811ca8fb3",
   "metadata": {},
   "source": [
    "---"
   ]
  },
  {
   "cell_type": "markdown",
   "id": "774cbca0-b6c9-4a51-aca0-1f6a9ccd837f",
   "metadata": {},
   "source": [
    "## Connectivity checks"
   ]
  },
  {
   "cell_type": "code",
   "execution_count": 8,
   "id": "8b857990-e1e4-4ae3-a8b0-1f07c7448a36",
   "metadata": {
    "ExecuteTime": {
     "end_time": "2024-03-06T11:36:26.992825200Z",
     "start_time": "2024-03-06T11:36:26.254704500Z"
    }
   },
   "outputs": [],
   "source": [
    "from langchain_openai import AzureChatOpenAI"
   ]
  },
  {
   "cell_type": "code",
   "execution_count": 9,
   "id": "ba00d75d-1ee3-4f3a-ac7d-1ee0899b54c1",
   "metadata": {
    "ExecuteTime": {
     "end_time": "2024-03-06T11:36:29.478428500Z",
     "start_time": "2024-03-06T11:36:27.626005700Z"
    }
   },
   "outputs": [
    {
     "data": {
      "text/plain": [
       "AIMessage(content=\"Great! Let me know if there's anything specific you'd like to test.\", response_metadata={'token_usage': {'completion_tokens': 16, 'prompt_tokens': 11, 'total_tokens': 27}, 'model_name': 'gpt-35-turbo', 'system_fingerprint': 'fp_68a7d165bf', 'finish_reason': 'stop', 'logprobs': None, 'content_filter_results': {}}, id='run-c2fef041-671a-43c2-8ad6-38d23d4850a6-0')"
      ]
     },
     "execution_count": 9,
     "metadata": {},
     "output_type": "execute_result"
    }
   ],
   "source": [
    "model = AzureChatOpenAI(azure_endpoint=constants.AZURE_OPENAI_ENDPOINT,\n",
    "                        deployment_name= constants.GPT35_TURBO_DEPLOYMENT_NAME,\n",
    "                        api_version=\"2023-05-15\",\n",
    "                        openai_api_key=constants.AZURE_OPENAI_KEY)\n",
    "model.invoke(\"This is a test\")"
   ]
  },
  {
   "cell_type": "markdown",
   "id": "63b91084-bdc9-44a7-bc45-c8228657f49e",
   "metadata": {},
   "source": [
    "Embeddings"
   ]
  },
  {
   "cell_type": "code",
   "execution_count": 10,
   "id": "305025dd-680b-4820-8daf-855fc162621e",
   "metadata": {
    "ExecuteTime": {
     "end_time": "2024-03-06T11:36:29.850837700Z",
     "start_time": "2024-03-06T11:36:29.477296300Z"
    }
   },
   "outputs": [],
   "source": [
    "from langchain_openai import AzureOpenAIEmbeddings\n",
    "embeddings_model=AzureOpenAIEmbeddings(azure_endpoint=constants.AZURE_OPENAI_ENDPOINT,\n",
    "                                      openai_api_key=constants.AZURE_OPENAI_KEY,\n",
    "                                      deployment=constants.EMBEDDINGS_DEPLOYMENT_NAME,\n",
    "                                      api_version=\"2023-05-15\",)"
   ]
  },
  {
   "cell_type": "code",
   "execution_count": 11,
   "id": "d87097d2-c047-4dcc-8209-a816903e3297",
   "metadata": {
    "ExecuteTime": {
     "end_time": "2024-03-06T11:36:31.522559100Z",
     "start_time": "2024-03-06T11:36:30.951586500Z"
    }
   },
   "outputs": [
    {
     "data": {
      "text/plain": [
       "[-0.0017071267597338821,\n",
       " -0.013916413495584066,\n",
       " 0.0017036213779290203,\n",
       " -0.018410329034731564,\n",
       " -0.00715450859452559]"
      ]
     },
     "execution_count": 11,
     "metadata": {},
     "output_type": "execute_result"
    }
   ],
   "source": [
    "embeddings_model.embed_query(\"test\")[:5]"
   ]
  },
  {
   "cell_type": "code",
   "execution_count": null,
   "id": "8eca3407-1054-45e3-92db-93f92e660dc2",
   "metadata": {},
   "outputs": [],
   "source": []
  }
 ],
 "metadata": {
  "kernelspec": {
   "display_name": "Python 3 (ipykernel)",
   "language": "python",
   "name": "python3"
  },
  "language_info": {
   "codemirror_mode": {
    "name": "ipython",
    "version": 3
   },
   "file_extension": ".py",
   "mimetype": "text/x-python",
   "name": "python",
   "nbconvert_exporter": "python",
   "pygments_lexer": "ipython3",
   "version": "3.11.5"
  }
 },
 "nbformat": 4,
 "nbformat_minor": 5
}
